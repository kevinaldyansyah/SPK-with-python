{
  "nbformat": 4,
  "nbformat_minor": 0,
  "metadata": {
    "colab": {
      "name": "Moora.ipynb",
      "provenance": [],
      "authorship_tag": "ABX9TyNkjfdqGmiBDosfZpb4LeF3",
      "include_colab_link": true
    },
    "kernelspec": {
      "name": "python3",
      "display_name": "Python 3"
    },
    "language_info": {
      "name": "python"
    }
  },
  "cells": [
    {
      "cell_type": "markdown",
      "metadata": {
        "id": "view-in-github",
        "colab_type": "text"
      },
      "source": [
        "<a href=\"https://colab.research.google.com/github/kevinaldyansyah/SPK-with-python/blob/main/Moora.ipynb\" target=\"_parent\"><img src=\"https://colab.research.google.com/assets/colab-badge.svg\" alt=\"Open In Colab\"/></a>"
      ]
    },
    {
      "cell_type": "code",
      "metadata": {
        "id": "wbc5xWiSfJJb"
      },
      "source": [
        "# Membuat Label untuk benefit dan cost\n",
        "# Benefit = 1\n",
        "# Cost = 0\n",
        "# Label untuk C1, C2, C3, C4, C5, C6 secara berutan\n",
        "\n",
        "label = [1, 1, 1, 0]"
      ],
      "execution_count": 1,
      "outputs": []
    },
    {
      "cell_type": "code",
      "metadata": {
        "id": "eas8XQMVjhzq",
        "outputId": "210d02e8-57e6-4aab-eefa-b05e8136a494",
        "colab": {
          "base_uri": "https://localhost:8080/"
        }
      },
      "source": [
        "# Implementasi Matrix Pada Python\n",
        "# Kita akan menggunakan bantuan Numpy untuk membuat 2d array\n",
        "\n",
        "import numpy as np\n",
        "\n",
        "init_matrix = np.array([[3,2,4,2], [4,3,3,2], [3,4,3,1], [3,2,1,3]])\n",
        "\n",
        "print(init_matrix) #cek hasil matrix"
      ],
      "execution_count": 2,
      "outputs": [
        {
          "output_type": "stream",
          "text": [
            "[[3 2 4 2]\n",
            " [4 3 3 2]\n",
            " [3 4 3 1]\n",
            " [3 2 1 3]]\n"
          ],
          "name": "stdout"
        }
      ]
    },
    {
      "cell_type": "code",
      "metadata": {
        "id": "p6zVluIZjjkF"
      },
      "source": [
        "\n",
        "# Pada modul ini akan diterapkan normalisasi matrix sesuai dengan persamaan\n",
        "# Kita akan membuat fungsi yang akan menerima paramater berupa array 2d\n",
        "import math\n",
        "\n",
        "def normalization(matrix):\n",
        "    # Transpose Decision Matrix\n",
        "    matrix = matrix.transpose()\n",
        "    row_values = []\n",
        "    norm_matrix = []\n",
        "    \n",
        "    for i in range(matrix.shape[0]): # Looping per baris (kriteria)\n",
        "        # Menghitung sum tiap x_{ij}^2\n",
        "        sum_row = sum([pow(x,2) for x in matrix[i]])\n",
        "        \n",
        "        for j in range(matrix[i].shape[0]): # Looping per kolom (alternatif)\n",
        "            # membangi nilai asli x_{ij} dengan hasil akar\n",
        "            r_value = matrix[i][j] / math.sqrt(sum_row)\n",
        "            \n",
        "            # Masukkan hasil normalisasi ke list tiap baris\n",
        "            row_values.append(r_value)\n",
        "        \n",
        "        #Masukkan hasil normalisasi per baris ke matrix normalisasi\n",
        "        norm_matrix.append(row_values)\n",
        "        \n",
        "        #Kosongkan list normalisasi perbaris\n",
        "        row_values = []\n",
        "            \n",
        "    # Ubah dalam bentuk numpy array\n",
        "    norm_matrix = np.asarray(norm_matrix)\n",
        "    \n",
        "    # Return dalam bentuk transporse agar kembali ke format awal\n",
        "    return norm_matrix.transpose()"
      ],
      "execution_count": 4,
      "outputs": []
    },
    {
      "cell_type": "code",
      "metadata": {
        "id": "9n5xz4OCjmLq",
        "outputId": "4f1dd9cf-a1da-4563-b80b-bb23114ade80",
        "colab": {
          "base_uri": "https://localhost:8080/"
        }
      },
      "source": [
        "# Test fungsi normalisasi\n",
        "n_matrix = normalization(init_matrix)\n",
        "\n",
        "# Cetak hasil normalisasi\n",
        "print(n_matrix)"
      ],
      "execution_count": 5,
      "outputs": [
        {
          "output_type": "stream",
          "text": [
            "[[0.45749571 0.34815531 0.6761234  0.47140452]\n",
            " [0.60999428 0.52223297 0.50709255 0.47140452]\n",
            " [0.45749571 0.69631062 0.50709255 0.23570226]\n",
            " [0.45749571 0.34815531 0.16903085 0.70710678]]\n"
          ],
          "name": "stdout"
        }
      ]
    },
    {
      "cell_type": "code",
      "metadata": {
        "id": "M1Nrzc9Sjor9"
      },
      "source": [
        "\n",
        "# Kalkulasi skor normalisasi terbobot\n",
        "\n",
        "# Bobot untuk Kriteria C1, C2, C3, C4\n",
        "c_weights = np.array([0.3, 0.3, 0.2, 0.2])\n",
        "\n",
        "# Fungsi untuk kalkulasi matrix terbobot. Paramter yang diperlukan adalah nilai ternormalisasi dan bobot\n",
        "# Untuk mempermudah perhitungan, lakukan operasi transpose pada matrix ternormalisasi.\n",
        "# Ingat! Kriteria adalah baris, alternatif adalah kolom setelah proses transpose\n",
        "def weighted_normalization(n_matrix, c_weights):\n",
        "    # Buat salinan nilai ternormalisasi dan transpose\n",
        "    norm_weighted = n_matrix.transpose()\n",
        "    \n",
        "    for i in range(c_weights.shape[0]): # Looping tiap kriteria\n",
        "        # Kalkulasi normalisasi terbobot\n",
        "        norm_weighted[i] = [r * c_weights[i] for r in norm_weighted[i]]\n",
        "    \n",
        "    # Ubah ke bentuk numpy array\n",
        "    norm_weighted = np.asarray(norm_weighted)\n",
        "    \n",
        "    # Return ke dalam format matrix semula\n",
        "    return norm_weighted.transpose()"
      ],
      "execution_count": 6,
      "outputs": []
    },
    {
      "cell_type": "code",
      "metadata": {
        "id": "3aLeYxfzjqgw",
        "outputId": "0ba953fc-0c06-444f-d793-16c53a3df133",
        "colab": {
          "base_uri": "https://localhost:8080/"
        }
      },
      "source": [
        "# Test fungsi pembobotan\n",
        "w_matrix = weighted_normalization(n_matrix, c_weights)\n",
        "\n",
        "# Cetak hasil\n",
        "print(w_matrix)"
      ],
      "execution_count": 7,
      "outputs": [
        {
          "output_type": "stream",
          "text": [
            "[[0.13724871 0.10444659 0.13522468 0.0942809 ]\n",
            " [0.18299828 0.15666989 0.10141851 0.0942809 ]\n",
            " [0.13724871 0.20889319 0.10141851 0.04714045]\n",
            " [0.13724871 0.10444659 0.03380617 0.14142136]]\n"
          ],
          "name": "stdout"
        }
      ]
    },
    {
      "cell_type": "code",
      "metadata": {
        "id": "KZB90WMijsiW"
      },
      "source": [
        "def optimize_value(w_matrix, label):\n",
        "    y_values = []\n",
        "    \n",
        "    for i in range(w_matrix.shape[0]):\n",
        "        max_val = []\n",
        "        min_val = []\n",
        "        \n",
        "        for j in range(w_matrix[i].shape[0]):\n",
        "            # Hitung benefit\n",
        "            if label[j] == 1:\n",
        "                max_val.append(w_matrix[i][j])\n",
        "            # Hitung cost\n",
        "            else:\n",
        "                min_val.append(w_matrix[i][j])\n",
        "        \n",
        "        y = sum(max_val) - sum(min_val)\n",
        "        y_values.append(y)\n",
        "    \n",
        "    return np.asarray(y_values)"
      ],
      "execution_count": 8,
      "outputs": []
    },
    {
      "cell_type": "code",
      "metadata": {
        "id": "l8B5wVKBjt0v",
        "outputId": "f998f9ba-f69d-4151-985d-dd1f9ba34059",
        "colab": {
          "base_uri": "https://localhost:8080/"
        }
      },
      "source": [
        "# Test fungsi nilai optimasi\n",
        "result = optimize_value(w_matrix, label)\n",
        "\n",
        "print(result)"
      ],
      "execution_count": 9,
      "outputs": [
        {
          "output_type": "stream",
          "text": [
            "[0.28263908 0.34680578 0.40041996 0.13408012]\n"
          ],
          "name": "stdout"
        }
      ]
    }
  ]
}