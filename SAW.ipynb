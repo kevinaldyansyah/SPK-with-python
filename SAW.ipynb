{
  "nbformat": 4,
  "nbformat_minor": 0,
  "metadata": {
    "colab": {
      "name": "SAW.ipynb",
      "provenance": [],
      "authorship_tag": "ABX9TyOVr3hz36usbtfLrb5IuxtD",
      "include_colab_link": true
    },
    "kernelspec": {
      "name": "python3",
      "display_name": "Python 3"
    },
    "language_info": {
      "name": "python"
    }
  },
  "cells": [
    {
      "cell_type": "markdown",
      "metadata": {
        "id": "view-in-github",
        "colab_type": "text"
      },
      "source": [
        "<a href=\"https://colab.research.google.com/github/kevinaldyansyah/SPK-with-python/blob/main/SAW.ipynb\" target=\"_parent\"><img src=\"https://colab.research.google.com/assets/colab-badge.svg\" alt=\"Open In Colab\"/></a>"
      ]
    },
    {
      "cell_type": "code",
      "metadata": {
        "id": "aDqnjxUQu9cW"
      },
      "source": [
        "import numpy as np\n",
        "# Fungsi untuk menghitung matrix normalisasi dengan metode sample\n",
        "def sample_norm(values, label):\n",
        "    # Cek jumlah label harus sama dengan jumlah kriteria\n",
        "    if not values.shape[0] == label.shape[0]:\n",
        "        print('Jumlah kriteria dan label tidak match!')\n",
        "        return\n",
        "    \n",
        "    norm_value = []\n",
        "    norm_all = []\n",
        "    \n",
        "    for i in range(values.shape[0]):\n",
        "        if label[i] == 'benefit':\n",
        "            for j in range(values[i].shape[0]):\n",
        "                norm_c = values[i][j] / np.max(values[i])\n",
        "                norm_value.append(norm_c)\n",
        "        elif label[i] == 'cost':\n",
        "            for j in range(values[i].shape[0]):\n",
        "                norm_c = np.min(values[i]) / values[i][j]\n",
        "                norm_value.append(norm_c)\n",
        "        \n",
        "        norm_all.append(norm_value)\n",
        "        norm_value = []\n",
        "    \n",
        "    return np.array(norm_all)"
      ],
      "execution_count": 1,
      "outputs": []
    },
    {
      "cell_type": "code",
      "metadata": {
        "id": "xwph_peKvAMs"
      },
      "source": [
        "#A = np.array([[2,4,3], [7000000, 10000000, 8500000], [2012, 2015, 2010], [7, 2, 4], [3, 3, 4]])\n",
        "L = np.array(['benefit', 'cost', 'cost', 'benefit'])\n",
        "#W = np.array([30, 20, 20, 20, 10])\n",
        "\n",
        "# Bobot\n",
        "W = np.array([20, 25, 15, 40])\n",
        "\n",
        "# Nilai kriteria\n",
        "A = np.array([[15, 20, 15, 50], [20, 25, 25, 30], [25, 15, 30, 30], [10, 30, 40, 20]])\n",
        "A = np.transpose(A)"
      ],
      "execution_count": 3,
      "outputs": []
    },
    {
      "cell_type": "code",
      "metadata": {
        "id": "cP1t4YuUvCvU"
      },
      "source": [
        "def calculate_saw(values, weight):\n",
        "    if not values.shape[0] == weight.shape[0]:\n",
        "        print('Jumalah kriteria dan bobot tidak match!')\n",
        "        return\n",
        "    \n",
        "    alt_crit_value = []\n",
        "    all_value = []\n",
        "    all_saw = []\n",
        "    \n",
        "    values = np.transpose(values)\n",
        "    \n",
        "    for i in range(values.shape[0]): # Loop through alternatives\n",
        "        for j in range(values[i].shape[0]): # Loop through criterias\n",
        "            val = values[i][j] * weight[j]\n",
        "            alt_crit_value.append(val)\n",
        "                \n",
        "        all_value.append(alt_crit_value)\n",
        "        alt_crit_value = []\n",
        "        \n",
        "        saw = np.sum(all_value)\n",
        "        all_saw.append(saw)\n",
        "        all_value = []\n",
        "    \n",
        "    \n",
        "    return all_saw"
      ],
      "execution_count": 4,
      "outputs": []
    },
    {
      "cell_type": "code",
      "metadata": {
        "colab": {
          "base_uri": "https://localhost:8080/"
        },
        "id": "4fJYW8qfvDzi",
        "outputId": "64bc8a97-729c-43a7-eaba-08cf6d8bd618"
      },
      "source": [
        "norm_a = sample_norm(A, L)\n",
        "print(np.matrix(norm_a))"
      ],
      "execution_count": 5,
      "outputs": [
        {
          "output_type": "stream",
          "text": [
            "[[0.6   0.8   1.    0.4  ]\n",
            " [0.75  0.6   1.    0.5  ]\n",
            " [1.    0.6   0.5   0.375]\n",
            " [1.    0.6   0.6   0.4  ]]\n"
          ],
          "name": "stdout"
        }
      ]
    },
    {
      "cell_type": "code",
      "metadata": {
        "id": "eoOkgtfxvKEu",
        "outputId": "7ba5fe52-643d-452d-ab15-8d95f19d0248",
        "colab": {
          "base_uri": "https://localhost:8080/"
        }
      },
      "source": [
        "calculate_saw(norm_a, W)"
      ],
      "execution_count": 6,
      "outputs": [
        {
          "output_type": "execute_result",
          "data": {
            "text/plain": [
              "[85.75, 64.0, 76.5, 42.125]"
            ]
          },
          "metadata": {
            "tags": []
          },
          "execution_count": 6
        }
      ]
    }
  ]
}