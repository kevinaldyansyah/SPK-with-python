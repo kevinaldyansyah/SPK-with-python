{
  "nbformat": 4,
  "nbformat_minor": 0,
  "metadata": {
    "colab": {
      "name": "TOPSIS",
      "provenance": [],
      "authorship_tag": "ABX9TyPq3Af5tPb6K/aLY7EVylne",
      "include_colab_link": true
    },
    "kernelspec": {
      "name": "python3",
      "display_name": "Python 3"
    },
    "language_info": {
      "name": "python"
    }
  },
  "cells": [
    {
      "cell_type": "markdown",
      "metadata": {
        "id": "view-in-github",
        "colab_type": "text"
      },
      "source": [
        "<a href=\"https://colab.research.google.com/github/kevinaldyansyah/SPK-with-python/blob/main/TOPSIS.ipynb\" target=\"_parent\"><img src=\"https://colab.research.google.com/assets/colab-badge.svg\" alt=\"Open In Colab\"/></a>"
      ]
    },
    {
      "cell_type": "code",
      "metadata": {
        "colab": {
          "base_uri": "https://localhost:8080/"
        },
        "id": "xldOMfyKtU87",
        "outputId": "91bc5555-4d37-40da-acbf-7a2198073d0c"
      },
      "source": [
        "# Import Library Numpy dan disimapan dalam nama 'np'\n",
        "import numpy as np\n",
        "\n",
        "# Membuat array 2d sesuai dengan matrix penyekalaan\n",
        "init_matrix = np.array([[3,4,5], [5,3,4], [3,2,5], [1,3,1]])\n",
        "# Cek hasil array 2d\n",
        "print(init_matrix)"
      ],
      "execution_count": 1,
      "outputs": [
        {
          "output_type": "stream",
          "text": [
            "[[3 4 5]\n",
            " [5 3 4]\n",
            " [3 2 5]\n",
            " [1 3 1]]\n"
          ],
          "name": "stdout"
        }
      ]
    },
    {
      "cell_type": "code",
      "metadata": {
        "id": "qRcQY89Ktk8j"
      },
      "source": [
        "# Pada modul ini akan diterapkan normalisasi matrix sesuai dengan persamaan\n",
        "# Kita akan membuat fungsi yang akan menerima paramater berupa array 2d\n",
        "import math\n",
        "\n",
        "def normalization(matrix):\n",
        "    row_values = []\n",
        "    norm_matrix = []\n",
        "    \n",
        "    for i in range(matrix.shape[0]): # Looping per baris (kriteria)\n",
        "        # Menghitung sum tiap x_{ij}^2\n",
        "        sum_row = sum([pow(x,2) for x in matrix[i]])\n",
        "        \n",
        "        for j in range(matrix[i].shape[0]): # Looping per kolom (alternatif)\n",
        "            # membangi nilai asli x_{ij} dengan hasil akar\n",
        "            r_value = matrix[i][j] / math.sqrt(sum_row)\n",
        "            \n",
        "            # Masukkan hasil normalisasi ke list tiap baris\n",
        "            row_values.append(r_value)\n",
        "        \n",
        "        #Masukkan hasil normalisasi per baris ke matrix normalisasi\n",
        "        norm_matrix.append(row_values)\n",
        "        \n",
        "        #Kosongkan list normalisasi perbaris\n",
        "        row_values = []\n",
        "            \n",
        "    # Rturn matrix normalisasi dalam bentuk numpy array\n",
        "    return np.asarray(norm_matrix)"
      ],
      "execution_count": 2,
      "outputs": []
    },
    {
      "cell_type": "code",
      "metadata": {
        "colab": {
          "base_uri": "https://localhost:8080/"
        },
        "id": "yKAqA2Q9trn5",
        "outputId": "33befb08-93f9-4102-c68f-dc8ccad7a17a"
      },
      "source": [
        "# Testing Fungsi Normalisasi\n",
        "norm = normalization(init_matrix)\n",
        "print(norm)"
      ],
      "execution_count": 3,
      "outputs": [
        {
          "output_type": "stream",
          "text": [
            "[[0.42426407 0.56568542 0.70710678]\n",
            " [0.70710678 0.42426407 0.56568542]\n",
            " [0.48666426 0.32444284 0.81110711]\n",
            " [0.30151134 0.90453403 0.30151134]]\n"
          ],
          "name": "stdout"
        }
      ]
    },
    {
      "cell_type": "code",
      "metadata": {
        "id": "tz5NON3YtubV"
      },
      "source": [
        "# Kalkulasi skor normalisasi terbobot\n",
        "\n",
        "# Bobot untuk Kriteria C1, C2, C3, dan C4\n",
        "c_weights = np.array([30,25,20,25])\n",
        "\n",
        "# Fungsi untuk kalkulasi matrix terbobot. Paramter yang diperlukan adalah nilai ternormalisasi dan bobot\n",
        "# Ingat! Kriteria adalah baris, Kolom adalah alternatif\n",
        "def weighted_normalization(n_matrix, c_weights):\n",
        "    # Buat salinan nilai ternormalisasi\n",
        "    norm_weighted = n_matrix\n",
        "    \n",
        "    for i in range(c_weights.shape[0]): # Looping tiap kriteria\n",
        "        # Kalkulasi normalisasi terbobot\n",
        "        norm_weighted[i] = [r * c_weights[i] for r in norm_weighted[i]]\n",
        "    \n",
        "    return np.asarray(norm_weighted)"
      ],
      "execution_count": 4,
      "outputs": []
    },
    {
      "cell_type": "code",
      "metadata": {
        "colab": {
          "base_uri": "https://localhost:8080/"
        },
        "id": "jvFecmR6t1pB",
        "outputId": "d9472a11-571b-411d-b961-65a6bad642e4"
      },
      "source": [
        "# Testing Matrix Normalisasi terbobot\n",
        "w_norm = weighted_normalization(norm, c_weights)\n",
        "print(w_norm)"
      ],
      "execution_count": 5,
      "outputs": [
        {
          "output_type": "stream",
          "text": [
            "[[12.72792206 16.97056275 21.21320344]\n",
            " [17.67766953 10.60660172 14.14213562]\n",
            " [ 9.73328527  6.48885685 16.22214211]\n",
            " [ 7.53778361 22.61335084  7.53778361]]\n"
          ],
          "name": "stdout"
        }
      ]
    },
    {
      "cell_type": "code",
      "metadata": {
        "id": "z_liS-zDt4Oz"
      },
      "source": [
        "# Membuat label benefit dan cost untuk tiap kriteria\n",
        "# Benefit = 1\n",
        "# Cost = 0\n",
        "c_label = np.array([1, 1, 1, 0])"
      ],
      "execution_count": 6,
      "outputs": []
    },
    {
      "cell_type": "code",
      "metadata": {
        "id": "y2KkfvEguDFT"
      },
      "source": [
        "# Fungsi mencari solusi ideal positif dan negatif\n",
        "# Parameter yang dibutuhkan adalah, matrix normalisasi terbobot dan label benefit cost untuk tiap kriteria\n",
        "\n",
        "def ideal(w_norm, c_label):\n",
        "    a_positif = []\n",
        "    a_negatif = []\n",
        "    \n",
        "    for i in range(w_norm.shape[0]):\n",
        "        if c_label[i] == 1:\n",
        "            # Untuk ideal positif\n",
        "            a_max = max(w_norm[i])\n",
        "            a_positif.append(a_max)\n",
        "            \n",
        "            # Untuk ideal negatif\n",
        "            a_min = min(w_norm[i])\n",
        "            a_negatif.append(a_min)\n",
        "        elif c_label[i] == 0:\n",
        "            # Untuk ideal positif\n",
        "            a_max = min(w_norm[i])\n",
        "            a_positif.append(a_max)\n",
        "            \n",
        "            # Untuk ideal negatif\n",
        "            a_min = max(w_norm[i])\n",
        "            a_negatif.append(a_min)\n",
        "    \n",
        "    ideal_value = np.array([a_positif, a_negatif])\n",
        "    \n",
        "    # Return dalam bentuk transpose sehingga baris = kriteria, kolom = solusi ideal positif dan negatid\n",
        "    return ideal_value.transpose()"
      ],
      "execution_count": 7,
      "outputs": []
    },
    {
      "cell_type": "code",
      "metadata": {
        "colab": {
          "base_uri": "https://localhost:8080/"
        },
        "id": "ESo_fdBouEyB",
        "outputId": "1431fae7-594b-47f5-d7de-d211d2b5f6fa"
      },
      "source": [
        "# Testing Solusi Ideal\n",
        "ideal_v = ideal(w_norm, c_label)\n",
        "print(ideal_v)"
      ],
      "execution_count": 8,
      "outputs": [
        {
          "output_type": "stream",
          "text": [
            "[[21.21320344 12.72792206]\n",
            " [17.67766953 10.60660172]\n",
            " [16.22214211  6.48885685]\n",
            " [ 7.53778361 22.61335084]]\n"
          ],
          "name": "stdout"
        }
      ]
    },
    {
      "cell_type": "code",
      "metadata": {
        "id": "pYwZwfp4uPiq"
      },
      "source": [
        "# Kalkulasi Jarak Ideal Positif dan Negatif\n",
        "# Disini akan menggunakan bantuan fungsi `distance` dari library `scipy.spatial`\n",
        "# Parameter :\n",
        "# 1. Matrix normalisasi terbobot\n",
        "# 2. Nilai solusi ideal positif dan negatif\n",
        "\n",
        "from scipy.spatial import distance as d\n",
        "\n",
        "def alt_ideal_distance(w_norm, ideal_v):\n",
        "    d_positif = []\n",
        "    d_negatif = []\n",
        "    \n",
        "    # Kalkulasi Jarak\n",
        "    for i in range(w_norm[0].shape[0]):\n",
        "        # positif\n",
        "        dp = d.euclidean(w_norm[:,i], ideal_v[:,0])\n",
        "        d_positif.append(dp)\n",
        "        \n",
        "        # negatif\n",
        "        dn = d.euclidean(ideal_v[:,1], w_norm[:,i])\n",
        "        d_negatif.append(dn)\n",
        "    \n",
        "    d_positif = np.asarray(d_positif)\n",
        "    d_negatif = np.asarray(d_negatif)\n",
        "    \n",
        "    d_value = np.array([d_positif, d_negatif])\n",
        "        \n",
        "    return d_value.transpose()"
      ],
      "execution_count": 9,
      "outputs": []
    },
    {
      "cell_type": "code",
      "metadata": {
        "colab": {
          "base_uri": "https://localhost:8080/"
        },
        "id": "wuE-O2WGuRTE",
        "outputId": "ab92dbc7-5301-45e5-8a50-593a8d6e3c59"
      },
      "source": [
        "# Testing Jarak Ideal Positif\n",
        "distance = alt_ideal_distance(w_norm, ideal_v)\n",
        "print(distance)"
      ],
      "execution_count": 10,
      "outputs": [
        {
          "output_type": "stream",
          "text": [
            "[[10.68200651 16.96464096]\n",
            " [19.74865994  4.24264069]\n",
            " [ 3.53553391 20.16208247]]\n"
          ],
          "name": "stdout"
        }
      ]
    },
    {
      "cell_type": "code",
      "metadata": {
        "colab": {
          "base_uri": "https://localhost:8080/"
        },
        "id": "q6LafjjGuUFJ",
        "outputId": "92a1d6e7-bff3-4da3-9b75-4ae6a2efd534"
      },
      "source": [
        "distance.shape"
      ],
      "execution_count": 11,
      "outputs": [
        {
          "output_type": "execute_result",
          "data": {
            "text/plain": [
              "(3, 2)"
            ]
          },
          "metadata": {
            "tags": []
          },
          "execution_count": 11
        }
      ]
    },
    {
      "cell_type": "code",
      "metadata": {
        "id": "gb8noPchuXGC"
      },
      "source": [
        "# Kalkulsi skor akhir\n",
        "# Parameter :\n",
        "# 1. distance : matrix jarak solusi positif dan negatif. \n",
        "# Baris adalah kriteria, kolom adalah solusi ideal positif dan negatif\n",
        "\n",
        "def final_rank(distance):\n",
        "    v = []\n",
        "    \n",
        "    for i in range(distance.shape[0]):\n",
        "        vi = distance[i][1] / (distance[i][1] + distance[i][0])\n",
        "        v.append(vi)\n",
        "    \n",
        "    return np.asarray(v)"
      ],
      "execution_count": 12,
      "outputs": []
    },
    {
      "cell_type": "code",
      "metadata": {
        "colab": {
          "base_uri": "https://localhost:8080/"
        },
        "id": "EF4Q_ZXKuYs7",
        "outputId": "909e70f5-9b2c-4842-b521-060c69fb4a72"
      },
      "source": [
        "# Testing skor akhir\n",
        "ranking = final_rank(distance)\n",
        "print(ranking)"
      ],
      "execution_count": 13,
      "outputs": [
        {
          "output_type": "stream",
          "text": [
            "[0.6136238  0.1768408  0.85080635]\n"
          ],
          "name": "stdout"
        }
      ]
    }
  ]
}