{
  "nbformat": 4,
  "nbformat_minor": 0,
  "metadata": {
    "colab": {
      "name": "TOPSIS",
      "provenance": [],
      "authorship_tag": "ABX9TyNu1K2DOhVIyzCDhvl8c8N9",
      "include_colab_link": true
    },
    "kernelspec": {
      "name": "python3",
      "display_name": "Python 3"
    },
    "language_info": {
      "name": "python"
    }
  },
  "cells": [
    {
      "cell_type": "markdown",
      "metadata": {
        "id": "view-in-github",
        "colab_type": "text"
      },
      "source": [
        "<a href=\"https://colab.research.google.com/github/kevinaldyansyah/SPK-with-python/blob/main/TOPSIS.ipynb\" target=\"_parent\"><img src=\"https://colab.research.google.com/assets/colab-badge.svg\" alt=\"Open In Colab\"/></a>"
      ]
    },
    {
      "cell_type": "code",
      "metadata": {
        "colab": {
          "base_uri": "https://localhost:8080/"
        },
        "id": "xldOMfyKtU87",
        "outputId": "a2a90140-dab3-4a8f-c15e-48dd4cdb9daf"
      },
      "source": [
        "# Import Library Numpy dan disimapan dalam nama 'np'\n",
        "import numpy as np\n",
        "\n",
        "# Membuat array 2d sesuai dengan matrix penyekalaan\n",
        "init_matrix = np.array([[4,4,3,5], [4,3,5,4], [2,2,2,3], [1,4,1,4]])\n",
        "# Cek hasil array 2d\n",
        "print(init_matrix)"
      ],
      "execution_count": 1,
      "outputs": [
        {
          "output_type": "stream",
          "text": [
            "[[4 4 3 5]\n",
            " [4 3 5 4]\n",
            " [2 2 2 3]\n",
            " [1 4 1 4]]\n"
          ],
          "name": "stdout"
        }
      ]
    },
    {
      "cell_type": "code",
      "metadata": {
        "id": "qRcQY89Ktk8j"
      },
      "source": [
        "# Pada modul ini akan diterapkan normalisasi matrix sesuai dengan persamaan\n",
        "# Kita akan membuat fungsi yang akan menerima paramater berupa array 2d\n",
        "import math\n",
        "\n",
        "def normalization(matrix):\n",
        "    row_values = []\n",
        "    norm_matrix = []\n",
        "    \n",
        "    for i in range(matrix.shape[0]): # Looping per baris (kriteria)\n",
        "        # Menghitung sum tiap x_{ij}^2\n",
        "        sum_row = sum([pow(x,2) for x in matrix[i]])\n",
        "        \n",
        "        for j in range(matrix[i].shape[0]): # Looping per kolom (alternatif)\n",
        "            # membangi nilai asli x_{ij} dengan hasil akar\n",
        "            r_value = matrix[i][j] / math.sqrt(sum_row)\n",
        "            \n",
        "            # Masukkan hasil normalisasi ke list tiap baris\n",
        "            row_values.append(r_value)\n",
        "        \n",
        "        #Masukkan hasil normalisasi per baris ke matrix normalisasi\n",
        "        norm_matrix.append(row_values)\n",
        "        \n",
        "        #Kosongkan list normalisasi perbaris\n",
        "        row_values = []\n",
        "            \n",
        "    # Rturn matrix normalisasi dalam bentuk numpy array\n",
        "    return np.asarray(norm_matrix)"
      ],
      "execution_count": 4,
      "outputs": []
    },
    {
      "cell_type": "code",
      "metadata": {
        "colab": {
          "base_uri": "https://localhost:8080/"
        },
        "id": "yKAqA2Q9trn5",
        "outputId": "155f61d8-96e1-4052-bb27-525c900d0d00"
      },
      "source": [
        "# Testing Fungsi Normalisasi\n",
        "norm = normalization(init_matrix)\n",
        "print(norm)"
      ],
      "execution_count": 11,
      "outputs": [
        {
          "output_type": "stream",
          "text": [
            "[[0.49236596 0.49236596 0.36927447 0.61545745]\n",
            " [0.49236596 0.36927447 0.61545745 0.49236596]\n",
            " [0.43643578 0.43643578 0.43643578 0.65465367]\n",
            " [0.17149859 0.68599434 0.17149859 0.68599434]]\n"
          ],
          "name": "stdout"
        }
      ]
    },
    {
      "cell_type": "code",
      "metadata": {
        "id": "tz5NON3YtubV"
      },
      "source": [
        "# Kalkulasi skor normalisasi terbobot\n",
        "\n",
        "# Bobot untuk Kriteria C1, C2, C3, dan C4\n",
        "c_weights = np.array([35,25,20,20])\n",
        "\n",
        "# Fungsi untuk kalkulasi matrix terbobot. Paramter yang diperlukan adalah nilai ternormalisasi dan bobot\n",
        "# Ingat! Kriteria adalah baris, Kolom adalah alternatif\n",
        "def weighted_normalization(n_matrix, c_weights):\n",
        "    # Buat salinan nilai ternormalisasi\n",
        "    norm_weighted = n_matrix\n",
        "    \n",
        "    for i in range(c_weights.shape[0]): # Looping tiap kriteria\n",
        "        # Kalkulasi normalisasi terbobot\n",
        "        norm_weighted[i] = [r * c_weights[i] for r in norm_weighted[i]]\n",
        "    \n",
        "    return np.asarray(norm_weighted)"
      ],
      "execution_count": 7,
      "outputs": []
    },
    {
      "cell_type": "code",
      "metadata": {
        "id": "2fujqZiPZ0jQ",
        "outputId": "61086aed-3690-437e-f2b0-fb2338afe583",
        "colab": {
          "base_uri": "https://localhost:8080/"
        }
      },
      "source": [
        "# Testing Matrix Normalisasi terbobot\n",
        "w_norm = weighted_normalization(norm, c_weights)\n",
        "print(w_norm)"
      ],
      "execution_count": 12,
      "outputs": [
        {
          "output_type": "stream",
          "text": [
            "[[17.23280874 17.23280874 12.92460655 21.54101092]\n",
            " [12.3091491   9.23186182 15.38643637 12.3091491 ]\n",
            " [ 8.72871561  8.72871561  8.72871561 13.09307341]\n",
            " [ 3.4299717  13.71988681  3.4299717  13.71988681]]\n"
          ],
          "name": "stdout"
        }
      ]
    },
    {
      "cell_type": "code",
      "metadata": {
        "id": "z_liS-zDt4Oz"
      },
      "source": [
        "# Membuat label benefit dan cost untuk tiap kriteria\n",
        "# Benefit = 1\n",
        "# Cost = 0\n",
        "c_label = np.array([1, 1, 0, 1])"
      ],
      "execution_count": 13,
      "outputs": []
    },
    {
      "cell_type": "code",
      "metadata": {
        "id": "y2KkfvEguDFT"
      },
      "source": [
        "# Fungsi mencari solusi ideal positif dan negatif\n",
        "# Parameter yang dibutuhkan adalah, matrix normalisasi terbobot dan label benefit cost untuk tiap kriteria\n",
        "\n",
        "def ideal(w_norm, c_label):\n",
        "    a_positif = []\n",
        "    a_negatif = []\n",
        "    \n",
        "    for i in range(w_norm.shape[0]):\n",
        "        if c_label[i] == 1:\n",
        "            # Untuk ideal positif\n",
        "            a_max = max(w_norm[i])\n",
        "            a_positif.append(a_max)\n",
        "            \n",
        "            # Untuk ideal negatif\n",
        "            a_min = min(w_norm[i])\n",
        "            a_negatif.append(a_min)\n",
        "        elif c_label[i] == 0:\n",
        "            # Untuk ideal positif\n",
        "            a_max = min(w_norm[i])\n",
        "            a_positif.append(a_max)\n",
        "            \n",
        "            # Untuk ideal negatif\n",
        "            a_min = max(w_norm[i])\n",
        "            a_negatif.append(a_min)\n",
        "    \n",
        "    ideal_value = np.array([a_positif, a_negatif])\n",
        "    \n",
        "    # Return dalam bentuk transpose sehingga baris = kriteria, kolom = solusi ideal positif dan negatid\n",
        "    return ideal_value.transpose()"
      ],
      "execution_count": 15,
      "outputs": []
    },
    {
      "cell_type": "code",
      "metadata": {
        "colab": {
          "base_uri": "https://localhost:8080/"
        },
        "id": "ESo_fdBouEyB",
        "outputId": "5f228b66-b4d4-405a-8fe0-7c5a3f840270"
      },
      "source": [
        "# Testing Solusi Ideal\n",
        "ideal_v = ideal(w_norm, c_label)\n",
        "print(ideal_v)"
      ],
      "execution_count": 16,
      "outputs": [
        {
          "output_type": "stream",
          "text": [
            "[[21.54101092 12.92460655]\n",
            " [15.38643637  9.23186182]\n",
            " [ 8.72871561 13.09307341]\n",
            " [13.71988681  3.4299717 ]]\n"
          ],
          "name": "stdout"
        }
      ]
    },
    {
      "cell_type": "code",
      "metadata": {
        "id": "pYwZwfp4uPiq"
      },
      "source": [
        "# Kalkulasi Jarak Ideal Positif dan Negatif\n",
        "# Disini akan menggunakan bantuan fungsi `distance` dari library `scipy.spatial`\n",
        "# Parameter :\n",
        "# 1. Matrix normalisasi terbobot\n",
        "# 2. Nilai solusi ideal positif dan negatif\n",
        "\n",
        "from scipy.spatial import distance as d\n",
        "\n",
        "def alt_ideal_distance(w_norm, ideal_v):\n",
        "    d_positif = []\n",
        "    d_negatif = []\n",
        "    \n",
        "    # Kalkulasi Jarak\n",
        "    for i in range(w_norm[0].shape[0]):\n",
        "        # positif\n",
        "        dp = d.euclidean(w_norm[:,i], ideal_v[:,0])\n",
        "        d_positif.append(dp)\n",
        "        \n",
        "        # negatif\n",
        "        dn = d.euclidean(ideal_v[:,1], w_norm[:,i])\n",
        "        d_negatif.append(dn)\n",
        "    \n",
        "    d_positif = np.asarray(d_positif)\n",
        "    d_negatif = np.asarray(d_negatif)\n",
        "    \n",
        "    d_value = np.array([d_positif, d_negatif])\n",
        "        \n",
        "    return d_value.transpose()"
      ],
      "execution_count": 17,
      "outputs": []
    },
    {
      "cell_type": "code",
      "metadata": {
        "colab": {
          "base_uri": "https://localhost:8080/"
        },
        "id": "wuE-O2WGuRTE",
        "outputId": "9dca0a06-a611-4c0d-971c-b285c6ad6d0e"
      },
      "source": [
        "# Testing Jarak Ideal Positif\n",
        "distance = alt_ideal_distance(w_norm, ideal_v)\n",
        "print(distance)"
      ],
      "execution_count": 18,
      "outputs": [
        {
          "output_type": "stream",
          "text": [
            "[[11.5720636   6.8613353 ]\n",
            " [ 7.51261565 11.97875528]\n",
            " [13.42105723  7.54495904]\n",
            " [ 5.34016067 13.76933093]]\n"
          ],
          "name": "stdout"
        }
      ]
    },
    {
      "cell_type": "code",
      "metadata": {
        "colab": {
          "base_uri": "https://localhost:8080/"
        },
        "id": "q6LafjjGuUFJ",
        "outputId": "155d5068-3d22-43d7-b17e-d6af02ffc341"
      },
      "source": [
        "distance.shape"
      ],
      "execution_count": 19,
      "outputs": [
        {
          "output_type": "execute_result",
          "data": {
            "text/plain": [
              "(4, 2)"
            ]
          },
          "metadata": {
            "tags": []
          },
          "execution_count": 19
        }
      ]
    },
    {
      "cell_type": "code",
      "metadata": {
        "id": "gb8noPchuXGC"
      },
      "source": [
        "# Kalkulsi skor akhir\n",
        "# Parameter :\n",
        "# 1. distance : matrix jarak solusi positif dan negatif. \n",
        "# Baris adalah kriteria, kolom adalah solusi ideal positif dan negatif\n",
        "\n",
        "def final_rank(distance):\n",
        "    v = []\n",
        "    \n",
        "    for i in range(distance.shape[0]):\n",
        "        vi = distance[i][1] / (distance[i][1] + distance[i][0])\n",
        "        v.append(vi)\n",
        "    \n",
        "    return np.asarray(v)"
      ],
      "execution_count": 20,
      "outputs": []
    },
    {
      "cell_type": "code",
      "metadata": {
        "colab": {
          "base_uri": "https://localhost:8080/"
        },
        "id": "EF4Q_ZXKuYs7",
        "outputId": "f18b165f-526e-4147-e025-f3e4ed2b20c9"
      },
      "source": [
        "# Testing skor akhir\n",
        "ranking = final_rank(distance)\n",
        "print(ranking)"
      ],
      "execution_count": 21,
      "outputs": [
        {
          "output_type": "stream",
          "text": [
            "[0.37222301 0.6145671  0.35986613 0.72054931]\n"
          ],
          "name": "stdout"
        }
      ]
    }
  ]
}