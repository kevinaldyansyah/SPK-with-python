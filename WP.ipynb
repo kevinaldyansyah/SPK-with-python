{
  "nbformat": 4,
  "nbformat_minor": 0,
  "metadata": {
    "colab": {
      "name": "WP.ipynb",
      "provenance": [],
      "authorship_tag": "ABX9TyMDisAxWNnebKAf2G8OFPHH",
      "include_colab_link": true
    },
    "kernelspec": {
      "name": "python3",
      "display_name": "Python 3"
    },
    "language_info": {
      "name": "python"
    }
  },
  "cells": [
    {
      "cell_type": "markdown",
      "metadata": {
        "id": "view-in-github",
        "colab_type": "text"
      },
      "source": [
        "<a href=\"https://colab.research.google.com/github/kevinaldyansyah/SPK-with-python/blob/main/WP.ipynb\" target=\"_parent\"><img src=\"https://colab.research.google.com/assets/colab-badge.svg\" alt=\"Open In Colab\"/></a>"
      ]
    },
    {
      "cell_type": "code",
      "metadata": {
        "colab": {
          "base_uri": "https://localhost:8080/"
        },
        "id": "mdB6zAK1vmyy",
        "outputId": "b2a01cd7-8b21-4139-9d90-5778a162f03c"
      },
      "source": [
        "import numpy as np\n",
        "\n",
        "# Bobot\n",
        "W = np.array([0.2, 0.25, 0.15, 0.4])\n",
        "\n",
        "# Nilai kriteria\n",
        "A = np.array([[15, 20, 15, 50], [20, 25, 25, 30], [25, 15, 30, 30], [10, 30, 40, 20]])\n",
        "# A = np.transpose(A)\n",
        "#A = np.array([[2,4,3], [7000000, 10000000, 8500000], [2012, 2015, 2010], [7, 2, 4], [3, 3, 4]])\n",
        "L = np.array(['benefit', 'cost', 'cost', 'benefit'])\n",
        "#W = np.array([0.3, 0.2, 0.2, 0.2, 0.1])\n",
        "print(A)"
      ],
      "execution_count": 1,
      "outputs": [
        {
          "output_type": "stream",
          "text": [
            "[[15 20 15 50]\n",
            " [20 25 25 30]\n",
            " [25 15 30 30]\n",
            " [10 30 40 20]]\n"
          ],
          "name": "stdout"
        }
      ]
    },
    {
      "cell_type": "code",
      "metadata": {
        "id": "mY9gzCbAv0OG"
      },
      "source": [
        "def calculate_wpm(values, weight, label):\n",
        "    if not values.shape[0] == label.shape[0]:\n",
        "        print('Jumlah kriteria dan label tidak match!')\n",
        "        return\n",
        "    elif not values.shape[0] == weight.shape[0]:\n",
        "        print('Jumalah kriteria dan bobot tidak match!')\n",
        "        return\n",
        "    \n",
        "    alt_crit_value = []\n",
        "    all_value = []\n",
        "    all_wpm = []\n",
        "    \n",
        "    values = np.transpose(values)\n",
        "    \n",
        "    for i in range(values.shape[0]): # Loop through alternatives\n",
        "        for j in range(values[i].shape[0]): # Loop through criterias\n",
        "            if label[j] == 'benefit':\n",
        "                val = pow(values[i][j], weight[j])\n",
        "                alt_crit_value.append(val)\n",
        "            elif label[j] == 'cost':\n",
        "                val = pow(values[i][j], -weight[j])\n",
        "                alt_crit_value.append(val)\n",
        "                \n",
        "        all_value.append(alt_crit_value)\n",
        "        alt_crit_value = []\n",
        "        \n",
        "        wpm = np.prod(all_value)\n",
        "        all_wpm.append(wpm)\n",
        "        all_value = []\n",
        "    \n",
        "    # Calculate final preferension\n",
        "    final = []\n",
        "    \n",
        "    for i in range(len(all_wpm)):\n",
        "        f = all_wpm[i] / np.sum(all_wpm)\n",
        "        final.append(f)\n",
        "    \n",
        "    \n",
        "    return final"
      ],
      "execution_count": 2,
      "outputs": []
    },
    {
      "cell_type": "code",
      "metadata": {
        "id": "tTfsnKxlv2du",
        "outputId": "4df059ed-7d2f-4b97-c35b-188b6e3d4dd9",
        "colab": {
          "base_uri": "https://localhost:8080/"
        }
      },
      "source": [
        "np.set_printoptions(suppress=True, precision=10)\n",
        "a = calculate_wpm(A, W, L)\n",
        "print(a)"
      ],
      "execution_count": 3,
      "outputs": [
        {
          "output_type": "stream",
          "text": [
            "[0.17371431862686815, 0.2915557934360771, 0.27832673408710423, 0.25640315384995044]\n"
          ],
          "name": "stdout"
        }
      ]
    }
  ]
}