{
  "nbformat": 4,
  "nbformat_minor": 0,
  "metadata": {
    "colab": {
      "name": "WSM.ipynb",
      "provenance": [],
      "authorship_tag": "ABX9TyO5kT0MbsZpmHEb9hywjbKV",
      "include_colab_link": true
    },
    "kernelspec": {
      "name": "python3",
      "display_name": "Python 3"
    },
    "language_info": {
      "name": "python"
    }
  },
  "cells": [
    {
      "cell_type": "markdown",
      "metadata": {
        "id": "view-in-github",
        "colab_type": "text"
      },
      "source": [
        "<a href=\"https://colab.research.google.com/github/kevinaldyansyah/SPK-with-python/blob/main/WSM.ipynb\" target=\"_parent\"><img src=\"https://colab.research.google.com/assets/colab-badge.svg\" alt=\"Open In Colab\"/></a>"
      ]
    },
    {
      "cell_type": "code",
      "metadata": {
        "colab": {
          "base_uri": "https://localhost:8080/"
        },
        "id": "XVVFEy12vU3D",
        "outputId": "c04b42f9-70a8-423e-d363-674061dcb417"
      },
      "source": [
        "import numpy as np\n",
        "\n",
        "# Bobot\n",
        "W = np.array([0.2, 0.25, 0.15, 0.4])\n",
        "\n",
        "# Nilai kriteria\n",
        "A = np.array([[15, 20, 15, 50], [20, 25, 25, 30], [25, 15, 30, 30], [10, 30, 40, 20]])\n",
        "\n",
        "# Fungsi untuk menghitung nilai WSM\n",
        "def calculate_wsm(weight, alternatives):\n",
        "    number_of_alternatives = alternatives.shape[0]\n",
        "    wsm_value = []\n",
        "    \n",
        "    for i in range(alternatives.shape[0]):\n",
        "        tmp_a = np.sum(alternatives[i]*weight)\n",
        "        wsm_value.append(tmp_a)\n",
        "    \n",
        "    print(wsm_value)\n",
        "\n",
        "\n",
        "calculate_wsm(W,A)"
      ],
      "execution_count": 2,
      "outputs": [
        {
          "output_type": "stream",
          "text": [
            "[30.25, 26.0, 25.25, 23.5]\n"
          ],
          "name": "stdout"
        }
      ]
    }
  ]
}